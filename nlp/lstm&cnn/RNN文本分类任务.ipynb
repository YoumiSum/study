{
 "cells": [
  {
   "cell_type": "code",
   "execution_count": 1,
   "metadata": {
    "tags": []
   },
   "outputs": [],
   "source": [
    "import os\n",
    "import warnings\n",
    "warnings.filterwarnings(\"ignore\")\n",
    "import tensorflow as tf\n",
    "import numpy as np\n",
    "import pprint\n",
    "import logging\n",
    "import time\n",
    "from collections import Counter\n",
    "from pathlib import Path\n",
    "from tqdm import tqdm"
   ]
  },
  {
   "cell_type": "code",
   "execution_count": 2,
   "metadata": {
    "tags": []
   },
   "outputs": [],
   "source": [
    "(x_train, y_train), (x_test, y_test) = tf.keras.datasets.imdb.load_data()"
   ]
  },
  {
   "cell_type": "code",
   "execution_count": 3,
   "metadata": {
    "tags": []
   },
   "outputs": [
    {
     "data": {
      "text/plain": [
       "(25000,)"
      ]
     },
     "execution_count": 3,
     "metadata": {},
     "output_type": "execute_result"
    }
   ],
   "source": [
    "x_train.shape"
   ]
  },
  {
   "cell_type": "code",
   "execution_count": 4,
   "metadata": {
    "tags": []
   },
   "outputs": [],
   "source": [
    "_word2idx = tf.keras.datasets.imdb.get_word_index()\n",
    "word2idx = {w: i+3 for w, i in _word2idx.items()}\n",
    "word2idx['<pad>'] = 0\n",
    "word2idx['<start>'] = 1\n",
    "word2idx['<unk>'] = 2\n",
    "idx2word = {i: w for w, i in word2idx.items()}"
   ]
  },
  {
   "cell_type": "code",
   "execution_count": null,
   "metadata": {
    "collapsed": true,
    "jupyter": {
     "outputs_hidden": true
    },
    "tags": []
   },
   "outputs": [],
   "source": []
  },
  {
   "cell_type": "code",
   "execution_count": 5,
   "metadata": {
    "tags": []
   },
   "outputs": [],
   "source": [
    "def sort_by_len(x, y):\n",
    "    x, y = np.asarray(x), np.asarray(y)\n",
    "    idx = sorted(range(len(x)), key=lambda i: len(x[i]))\n",
    "    return x[idx], y[idx]"
   ]
  },
  {
   "cell_type": "markdown",
   "metadata": {},
   "source": [
    "将中间结果保存到本地，万一程序崩了还得重玩，保存的是文本数据，不是ID"
   ]
  },
  {
   "cell_type": "code",
   "execution_count": 6,
   "metadata": {
    "tags": []
   },
   "outputs": [],
   "source": [
    "x_train, y_train = sort_by_len(x_train, y_train)\n",
    "x_test, y_test = sort_by_len(x_test, y_test)\n",
    "\n",
    "def write_file(f_path, xs, ys):\n",
    "    with open(f_path, 'w',encoding='utf-8') as f:\n",
    "        for x, y in zip(xs, ys):\n",
    "            f.write(str(y)+'\\t'+' '.join([idx2word[i] for i in x][1:])+'\\n')\n",
    "\n",
    "write_file('./data/train.txt', x_train, y_train)\n",
    "write_file('./data/test.txt', x_test, y_test)"
   ]
  },
  {
   "cell_type": "code",
   "execution_count": 7,
   "metadata": {
    "tags": []
   },
   "outputs": [
    {
     "name": "stdout",
     "output_type": "stream",
     "text": [
      "Vocab Size: 20598\n"
     ]
    }
   ],
   "source": [
    "counter = Counter()\n",
    "with open('./data/train.txt',encoding='utf-8') as f:\n",
    "    for line in f:\n",
    "        line = line.rstrip()\n",
    "        label, words = line.split('\\t')\n",
    "        words = words.split(' ')\n",
    "        counter.update(words)\n",
    "\n",
    "words = ['<pad>'] + [w for w, freq in counter.most_common() if freq >= 10]\n",
    "print('Vocab Size:', len(words))\n",
    "\n",
    "Path('./vocab').mkdir(exist_ok=True)\n",
    "\n",
    "with open('./vocab/word.txt', 'w',encoding='utf-8') as f:\n",
    "    for w in words:\n",
    "        f.write(w+'\\n')"
   ]
  },
  {
   "cell_type": "markdown",
   "metadata": {},
   "source": [
    "得到新的word2id映射表"
   ]
  },
  {
   "cell_type": "code",
   "execution_count": 8,
   "metadata": {
    "tags": []
   },
   "outputs": [],
   "source": [
    "word2idx = {}\n",
    "with open('./vocab/word.txt',encoding='utf-8') as f:\n",
    "    for i, line in enumerate(f):\n",
    "        line = line.rstrip()\n",
    "        word2idx[line] = i"
   ]
  },
  {
   "cell_type": "code",
   "execution_count": null,
   "metadata": {
    "tags": []
   },
   "outputs": [],
   "source": []
  },
  {
   "cell_type": "code",
   "execution_count": 10,
   "metadata": {
    "tags": []
   },
   "outputs": [
    {
     "name": "stdout",
     "output_type": "stream",
     "text": [
      "[19676 / 20598] words have found pre-trained values\n",
      "Saved ./vocab/word.npy\n"
     ]
    }
   ],
   "source": [
    "print(\"[%d / %d] words have found pre-trained values\"%(count, len(word2idx)))\n",
    "np.save('./vocab/word.npy', embedding)\n",
    "print('Saved ./vocab/word.npy')"
   ]
  },
  {
   "cell_type": "markdown",
   "metadata": {},
   "source": [
    "### 构建训练数据\n",
    "\n",
    "- 注意所有的输入样本必须都是相同shape（文本长度，词向量维度等）"
   ]
  },
  {
   "cell_type": "code",
   "execution_count": 11,
   "metadata": {
    "tags": []
   },
   "outputs": [],
   "source": [
    "def data_generator(f_path, params):\n",
    "    with open(f_path,encoding='utf-8') as f:\n",
    "        print('Reading', f_path)\n",
    "        for line in f:\n",
    "            line = line.rstrip()\n",
    "            label, text = line.split('\\t')\n",
    "            text = text.split(' ')\n",
    "            x = [params['word2idx'].get(w, len(word2idx)) for w in text]#得到当前词所对应的ID\n",
    "            if len(x) >= params['max_len']:#截断操作\n",
    "                x = x[:params['max_len']]\n",
    "            else:\n",
    "                x += [0] * (params['max_len'] - len(x))#补齐操作\n",
    "            y = int(label)\n",
    "            yield x, y"
   ]
  },
  {
   "cell_type": "code",
   "execution_count": 12,
   "metadata": {
    "tags": []
   },
   "outputs": [],
   "source": [
    "def dataset(is_training, params):\n",
    "    _shapes = ([params['max_len']], ())\n",
    "    _types = (tf.int32, tf.int32)\n",
    "  \n",
    "    if is_training:\n",
    "        ds = tf.data.Dataset.from_generator(\n",
    "            lambda: data_generator(params['train_path'], params),\n",
    "            output_shapes = _shapes,\n",
    "            output_types = _types,)\n",
    "        ds = ds.shuffle(params['num_samples'])\n",
    "        ds = ds.batch(params['batch_size'])\n",
    "        ds = ds.prefetch(tf.data.experimental.AUTOTUNE)#设置缓存序列，根据可用的CPU动态设置并行调用的数量，说白了就是加速\n",
    "    else:\n",
    "        ds = tf.data.Dataset.from_generator(\n",
    "            lambda: data_generator(params['test_path'], params),\n",
    "            output_shapes = _shapes,\n",
    "            output_types = _types,)\n",
    "        ds = ds.batch(params['batch_size'])\n",
    "        ds = ds.prefetch(tf.data.experimental.AUTOTUNE)\n",
    "  \n",
    "    return ds"
   ]
  },
  {
   "cell_type": "code",
   "execution_count": 49,
   "metadata": {
    "tags": []
   },
   "outputs": [],
   "source": [
    "class Model(tf.keras.Model):\n",
    "    def __init__(self, params):\n",
    "        super().__init__()\n",
    "    \n",
    "        self.embedding = tf.Variable(np.load('./vocab/word.npy'),\n",
    "                                     dtype=tf.float32,\n",
    "                                     name='pretrained_embedding',\n",
    "                                     trainable=False,)\n",
    "\n",
    "        self.drop1 = tf.keras.layers.Dropout(params['dropout_rate'])\n",
    "        self.drop2 = tf.keras.layers.Dropout(params['dropout_rate'])\n",
    "        self.drop3 = tf.keras.layers.Dropout(params['dropout_rate'])\n",
    "\n",
    "        self.rnn1 = tf.keras.layers.Bidirectional(tf.keras.layers.LSTM(params['rnn_units'], return_sequences=True))\n",
    "        self.rnn2 = tf.keras.layers.Bidirectional(tf.keras.layers.LSTM(params['rnn_units'], return_sequences=True))\n",
    "        self.rnn3 = tf.keras.layers.Bidirectional(tf.keras.layers.LSTM(params['rnn_units'], return_sequences=False))\n",
    "\n",
    "        self.drop_fc = tf.keras.layers.Dropout(params['dropout_rate'])\n",
    "        self.fc = tf.keras.layers.Dense(2*params['rnn_units'], tf.nn.elu)\n",
    "\n",
    "        self.out_linear = tf.keras.layers.Dense(2)\n",
    "\n",
    "  \n",
    "    def call(self, inputs, training=False):\n",
    "        if inputs.dtype != tf.int32:\n",
    "            inputs = tf.cast(inputs, tf.int32)\n",
    "    \n",
    "        batch_sz = tf.shape(inputs)[0]\n",
    "        rnn_units = 2*params['rnn_units']\n",
    "\n",
    "        x = tf.nn.embedding_lookup(self.embedding, inputs)\n",
    "        \n",
    "        x = self.drop1(x, training=training)\n",
    "        x = self.rnn1(x)\n",
    "\n",
    "        x = self.drop2(x, training=training)\n",
    "        x = self.rnn2(x)\n",
    "\n",
    "        x = self.drop3(x, training=training)\n",
    "        x = self.rnn3(x)\n",
    "\n",
    "#         x = self.drop_fc(x, training=training)\n",
    "#         x = self.fc(x)\n",
    "\n",
    "#         x = self.out_linear(x)\n",
    "\n",
    "        return x"
   ]
  },
  {
   "cell_type": "markdown",
   "metadata": {},
   "source": [
    "### 设置参数"
   ]
  },
  {
   "cell_type": "code",
   "execution_count": 15,
   "metadata": {
    "tags": []
   },
   "outputs": [],
   "source": [
    "params = {\n",
    "  'vocab_path': './vocab/word.txt',\n",
    "  'train_path': './data/train.txt',\n",
    "  'test_path': './data/test.txt',\n",
    "  'num_samples': 25000,\n",
    "  'num_labels': 2,\n",
    "  'batch_size': 32,\n",
    "  'max_len': 1000,\n",
    "  'rnn_units': 200,\n",
    "  'dropout_rate': 0.2,\n",
    "  'clip_norm': 10.,\n",
    "  'num_patience': 3,\n",
    "  'lr': 3e-4,\n",
    "}"
   ]
  },
  {
   "cell_type": "markdown",
   "metadata": {},
   "source": [
    "用来判断进行提前停止"
   ]
  },
  {
   "cell_type": "code",
   "execution_count": 16,
   "metadata": {
    "tags": []
   },
   "outputs": [],
   "source": [
    "def is_descending(history: list):\n",
    "    history = history[-(params['num_patience']+1):]\n",
    "    for i in range(1, len(history)):\n",
    "        if history[i-1] <= history[i]:\n",
    "            return False\n",
    "    return True  "
   ]
  },
  {
   "cell_type": "code",
   "execution_count": 17,
   "metadata": {},
   "outputs": [],
   "source": [
    "word2idx = {}\n",
    "with open(params['vocab_path'],encoding='utf-8') as f:\n",
    "    for i, line in enumerate(f):\n",
    "        line = line.rstrip()\n",
    "        word2idx[line] = i\n",
    "params['word2idx'] = word2idx\n",
    "params['vocab_size'] = len(word2idx) + 1\n",
    "\n",
    "\n",
    "model = Model(params)\n",
    "model.build(input_shape=(None, None))#设置输入的大小，或者fit时候也能自动找到\n",
    "#pprint.pprint([(v.name, v.shape) for v in model.trainable_variables])\n",
    "\n",
    "#链接：https://tensorflow.google.cn/api_docs/python/tf/keras/optimizers/schedules/ExponentialDecay?version=stable\n",
    "#return initial_learning_rate * decay_rate ^ (step / decay_steps)\n",
    "decay_lr = tf.optimizers.schedules.ExponentialDecay(params['lr'], 1000, 0.95)#相当于加了一个指数衰减函数\n",
    "optim = tf.optimizers.Adam(params['lr'])\n",
    "global_step = 0\n",
    "\n",
    "history_acc = []\n",
    "best_acc = .0\n",
    "\n",
    "t0 = time.time()\n",
    "logger = logging.getLogger('tensorflow')\n",
    "logger.setLevel(logging.INFO)"
   ]
  },
  {
   "cell_type": "code",
   "execution_count": 36,
   "metadata": {
    "tags": []
   },
   "outputs": [
    {
     "data": {
      "text/plain": [
       "<tf.Tensor: shape=(8, 1000), dtype=int32, numpy=\n",
       "array([[   10,   374, 20598, ...,  2360,  1635,  9693],\n",
       "       [ 1062, 11605,     4, ...,  6467,    14, 20598],\n",
       "       [    1, 11605,     4, ...,  3334,    16,   326],\n",
       "       ...,\n",
       "       [  142,     8,     1, ...,  7872,   207,  3611],\n",
       "       [   46,  1027,  1919, ...,   901,   202,    14],\n",
       "       [  222,     3,  1906, ...,     2,    48,   215]])>"
      ]
     },
     "execution_count": 36,
     "metadata": {},
     "output_type": "execute_result"
    }
   ],
   "source": []
  },
  {
   "cell_type": "code",
   "execution_count": 18,
   "metadata": {
    "collapsed": true,
    "jupyter": {
     "outputs_hidden": true
    },
    "tags": []
   },
   "outputs": [
    {
     "name": "stdout",
     "output_type": "stream",
     "text": [
      "Reading ./data/train.txt\n",
      "INFO:tensorflow:Step 0 | Loss: 0.6970 | Spent: 10.1 secs | LR: 0.000300\n",
      "INFO:tensorflow:Step 50 | Loss: 0.6976 | Spent: 5.5 secs | LR: 0.000299\n",
      "INFO:tensorflow:Step 100 | Loss: 0.5945 | Spent: 5.4 secs | LR: 0.000298\n",
      "INFO:tensorflow:Step 150 | Loss: 0.6198 | Spent: 5.4 secs | LR: 0.000298\n",
      "INFO:tensorflow:Step 200 | Loss: 0.7034 | Spent: 5.4 secs | LR: 0.000297\n",
      "INFO:tensorflow:Step 250 | Loss: 0.3389 | Spent: 5.6 secs | LR: 0.000296\n",
      "INFO:tensorflow:Step 300 | Loss: 0.5328 | Spent: 5.6 secs | LR: 0.000295\n",
      "INFO:tensorflow:Step 350 | Loss: 0.6685 | Spent: 5.4 secs | LR: 0.000295\n",
      "INFO:tensorflow:Step 400 | Loss: 0.4837 | Spent: 5.3 secs | LR: 0.000294\n",
      "INFO:tensorflow:Step 450 | Loss: 0.4643 | Spent: 5.3 secs | LR: 0.000293\n",
      "INFO:tensorflow:Step 500 | Loss: 0.4637 | Spent: 5.3 secs | LR: 0.000292\n",
      "INFO:tensorflow:Step 550 | Loss: 0.6567 | Spent: 5.4 secs | LR: 0.000292\n",
      "INFO:tensorflow:Step 600 | Loss: 0.6691 | Spent: 5.4 secs | LR: 0.000291\n",
      "INFO:tensorflow:Step 650 | Loss: 0.4236 | Spent: 5.4 secs | LR: 0.000290\n",
      "INFO:tensorflow:Step 700 | Loss: 0.3073 | Spent: 5.5 secs | LR: 0.000289\n",
      "INFO:tensorflow:Step 750 | Loss: 0.2668 | Spent: 5.3 secs | LR: 0.000289\n",
      "Reading ./data/test.txt\n",
      "INFO:tensorflow:Evaluation: Testing Accuracy: 0.813\n",
      "INFO:tensorflow:Best Accuracy: 0.813\n",
      "Reading ./data/train.txt\n",
      "INFO:tensorflow:Step 800 | Loss: 0.2533 | Spent: 53.6 secs | LR: 0.000288\n",
      "INFO:tensorflow:Step 850 | Loss: 0.3964 | Spent: 5.5 secs | LR: 0.000287\n",
      "INFO:tensorflow:Step 900 | Loss: 0.4396 | Spent: 5.5 secs | LR: 0.000286\n",
      "INFO:tensorflow:Step 950 | Loss: 0.3206 | Spent: 5.6 secs | LR: 0.000286\n",
      "INFO:tensorflow:Step 1000 | Loss: 0.4219 | Spent: 5.6 secs | LR: 0.000285\n",
      "INFO:tensorflow:Step 1050 | Loss: 0.5039 | Spent: 5.4 secs | LR: 0.000284\n",
      "INFO:tensorflow:Step 1100 | Loss: 0.3974 | Spent: 5.4 secs | LR: 0.000284\n",
      "INFO:tensorflow:Step 1150 | Loss: 0.4913 | Spent: 5.3 secs | LR: 0.000283\n",
      "INFO:tensorflow:Step 1200 | Loss: 0.3590 | Spent: 5.4 secs | LR: 0.000282\n",
      "INFO:tensorflow:Step 1250 | Loss: 0.4289 | Spent: 5.4 secs | LR: 0.000281\n",
      "INFO:tensorflow:Step 1300 | Loss: 0.3142 | Spent: 5.4 secs | LR: 0.000281\n",
      "INFO:tensorflow:Step 1350 | Loss: 0.5093 | Spent: 5.4 secs | LR: 0.000280\n",
      "INFO:tensorflow:Step 1400 | Loss: 0.5145 | Spent: 5.4 secs | LR: 0.000279\n",
      "INFO:tensorflow:Step 1450 | Loss: 0.4261 | Spent: 5.3 secs | LR: 0.000278\n",
      "INFO:tensorflow:Step 1500 | Loss: 0.5281 | Spent: 5.5 secs | LR: 0.000278\n",
      "INFO:tensorflow:Step 1550 | Loss: 0.3638 | Spent: 5.4 secs | LR: 0.000277\n",
      "Reading ./data/test.txt\n",
      "INFO:tensorflow:Evaluation: Testing Accuracy: 0.834\n",
      "INFO:tensorflow:Best Accuracy: 0.834\n",
      "Reading ./data/train.txt\n",
      "INFO:tensorflow:Step 1600 | Loss: 0.4089 | Spent: 53.6 secs | LR: 0.000276\n",
      "INFO:tensorflow:Step 1650 | Loss: 0.3116 | Spent: 5.4 secs | LR: 0.000276\n",
      "INFO:tensorflow:Step 1700 | Loss: 0.2751 | Spent: 5.6 secs | LR: 0.000275\n",
      "INFO:tensorflow:Step 1750 | Loss: 0.3058 | Spent: 5.7 secs | LR: 0.000274\n",
      "INFO:tensorflow:Step 1800 | Loss: 0.4655 | Spent: 5.7 secs | LR: 0.000274\n",
      "INFO:tensorflow:Step 1850 | Loss: 0.2855 | Spent: 5.7 secs | LR: 0.000273\n",
      "INFO:tensorflow:Step 1900 | Loss: 0.5237 | Spent: 5.4 secs | LR: 0.000272\n",
      "INFO:tensorflow:Step 1950 | Loss: 0.6561 | Spent: 5.4 secs | LR: 0.000271\n",
      "INFO:tensorflow:Step 2000 | Loss: 0.4394 | Spent: 5.6 secs | LR: 0.000271\n",
      "INFO:tensorflow:Step 2050 | Loss: 0.5339 | Spent: 5.4 secs | LR: 0.000270\n",
      "INFO:tensorflow:Step 2100 | Loss: 0.4540 | Spent: 5.4 secs | LR: 0.000269\n",
      "INFO:tensorflow:Step 2150 | Loss: 0.3812 | Spent: 5.4 secs | LR: 0.000269\n",
      "INFO:tensorflow:Step 2200 | Loss: 0.3868 | Spent: 5.8 secs | LR: 0.000268\n",
      "INFO:tensorflow:Step 2250 | Loss: 0.3467 | Spent: 5.5 secs | LR: 0.000267\n",
      "INFO:tensorflow:Step 2300 | Loss: 0.4061 | Spent: 5.4 secs | LR: 0.000267\n",
      "Reading ./data/test.txt\n",
      "INFO:tensorflow:Evaluation: Testing Accuracy: 0.844\n",
      "INFO:tensorflow:Best Accuracy: 0.844\n",
      "Reading ./data/train.txt\n",
      "INFO:tensorflow:Step 2350 | Loss: 0.5138 | Spent: 52.2 secs | LR: 0.000266\n",
      "INFO:tensorflow:Step 2400 | Loss: 0.2360 | Spent: 5.5 secs | LR: 0.000265\n",
      "INFO:tensorflow:Step 2450 | Loss: 0.3385 | Spent: 5.4 secs | LR: 0.000265\n",
      "INFO:tensorflow:Step 2500 | Loss: 0.3762 | Spent: 5.5 secs | LR: 0.000264\n",
      "INFO:tensorflow:Step 2550 | Loss: 0.4659 | Spent: 5.4 secs | LR: 0.000263\n",
      "INFO:tensorflow:Step 2600 | Loss: 0.2246 | Spent: 5.5 secs | LR: 0.000263\n",
      "INFO:tensorflow:Step 2650 | Loss: 0.4566 | Spent: 5.6 secs | LR: 0.000262\n",
      "INFO:tensorflow:Step 2700 | Loss: 0.4337 | Spent: 5.6 secs | LR: 0.000261\n",
      "INFO:tensorflow:Step 2750 | Loss: 0.3036 | Spent: 5.4 secs | LR: 0.000261\n",
      "INFO:tensorflow:Step 2800 | Loss: 0.4275 | Spent: 5.4 secs | LR: 0.000260\n",
      "INFO:tensorflow:Step 2850 | Loss: 0.3667 | Spent: 5.4 secs | LR: 0.000259\n",
      "INFO:tensorflow:Step 2900 | Loss: 0.2880 | Spent: 5.4 secs | LR: 0.000259\n",
      "INFO:tensorflow:Step 2950 | Loss: 0.2946 | Spent: 5.5 secs | LR: 0.000258\n",
      "INFO:tensorflow:Step 3000 | Loss: 0.4387 | Spent: 5.4 secs | LR: 0.000257\n",
      "INFO:tensorflow:Step 3050 | Loss: 0.2153 | Spent: 17.2 secs | LR: 0.000257\n",
      "INFO:tensorflow:Step 3100 | Loss: 0.2750 | Spent: 5.4 secs | LR: 0.000256\n",
      "Reading ./data/test.txt\n",
      "INFO:tensorflow:Evaluation: Testing Accuracy: 0.852\n",
      "INFO:tensorflow:Best Accuracy: 0.852\n",
      "Reading ./data/train.txt\n",
      "INFO:tensorflow:Step 3150 | Loss: 0.2390 | Spent: 53.4 secs | LR: 0.000255\n",
      "INFO:tensorflow:Step 3200 | Loss: 0.3990 | Spent: 5.8 secs | LR: 0.000255\n",
      "INFO:tensorflow:Step 3250 | Loss: 0.3638 | Spent: 5.7 secs | LR: 0.000254\n",
      "INFO:tensorflow:Step 3300 | Loss: 0.4342 | Spent: 5.6 secs | LR: 0.000253\n",
      "INFO:tensorflow:Step 3350 | Loss: 0.3180 | Spent: 5.5 secs | LR: 0.000253\n",
      "INFO:tensorflow:Step 3400 | Loss: 0.3058 | Spent: 5.7 secs | LR: 0.000252\n",
      "INFO:tensorflow:Step 3450 | Loss: 0.3035 | Spent: 5.5 secs | LR: 0.000251\n",
      "INFO:tensorflow:Step 3500 | Loss: 0.4228 | Spent: 5.5 secs | LR: 0.000251\n",
      "INFO:tensorflow:Step 3550 | Loss: 0.2541 | Spent: 5.4 secs | LR: 0.000250\n",
      "INFO:tensorflow:Step 3600 | Loss: 0.4854 | Spent: 5.5 secs | LR: 0.000249\n",
      "INFO:tensorflow:Step 3650 | Loss: 0.3298 | Spent: 5.4 secs | LR: 0.000249\n",
      "INFO:tensorflow:Step 3700 | Loss: 0.2832 | Spent: 5.4 secs | LR: 0.000248\n",
      "INFO:tensorflow:Step 3750 | Loss: 0.2378 | Spent: 8.9 secs | LR: 0.000248\n",
      "INFO:tensorflow:Step 3800 | Loss: 0.2469 | Spent: 6.0 secs | LR: 0.000247\n",
      "INFO:tensorflow:Step 3850 | Loss: 0.3688 | Spent: 5.5 secs | LR: 0.000246\n",
      "INFO:tensorflow:Step 3900 | Loss: 0.3508 | Spent: 5.5 secs | LR: 0.000246\n",
      "Reading ./data/test.txt\n",
      "INFO:tensorflow:Evaluation: Testing Accuracy: 0.845\n",
      "INFO:tensorflow:Best Accuracy: 0.852\n",
      "Reading ./data/train.txt\n",
      "INFO:tensorflow:Step 3950 | Loss: 0.2944 | Spent: 58.4 secs | LR: 0.000245\n",
      "INFO:tensorflow:Step 4000 | Loss: 0.3127 | Spent: 6.1 secs | LR: 0.000244\n",
      "INFO:tensorflow:Step 4050 | Loss: 0.2384 | Spent: 5.6 secs | LR: 0.000244\n",
      "INFO:tensorflow:Step 4100 | Loss: 0.4645 | Spent: 5.4 secs | LR: 0.000243\n",
      "INFO:tensorflow:Step 4150 | Loss: 0.2927 | Spent: 5.5 secs | LR: 0.000242\n",
      "INFO:tensorflow:Step 4200 | Loss: 0.2466 | Spent: 5.3 secs | LR: 0.000242\n",
      "INFO:tensorflow:Step 4250 | Loss: 0.2725 | Spent: 5.5 secs | LR: 0.000241\n",
      "INFO:tensorflow:Step 4300 | Loss: 0.2208 | Spent: 5.6 secs | LR: 0.000241\n",
      "INFO:tensorflow:Step 4350 | Loss: 0.3100 | Spent: 5.6 secs | LR: 0.000240\n",
      "INFO:tensorflow:Step 4400 | Loss: 0.4027 | Spent: 5.5 secs | LR: 0.000239\n",
      "INFO:tensorflow:Step 4450 | Loss: 0.3075 | Spent: 5.4 secs | LR: 0.000239\n",
      "INFO:tensorflow:Step 4500 | Loss: 0.2458 | Spent: 5.4 secs | LR: 0.000238\n",
      "INFO:tensorflow:Step 4550 | Loss: 0.4220 | Spent: 5.4 secs | LR: 0.000238\n",
      "INFO:tensorflow:Step 4600 | Loss: 0.1429 | Spent: 5.4 secs | LR: 0.000237\n",
      "INFO:tensorflow:Step 4650 | Loss: 0.4722 | Spent: 5.4 secs | LR: 0.000236\n",
      "Reading ./data/test.txt\n",
      "INFO:tensorflow:Evaluation: Testing Accuracy: 0.868\n",
      "INFO:tensorflow:Best Accuracy: 0.868\n",
      "Reading ./data/train.txt\n",
      "INFO:tensorflow:Step 4700 | Loss: 0.1822 | Spent: 53.4 secs | LR: 0.000236\n",
      "INFO:tensorflow:Step 4750 | Loss: 0.2482 | Spent: 5.5 secs | LR: 0.000235\n",
      "INFO:tensorflow:Step 4800 | Loss: 0.1568 | Spent: 5.4 secs | LR: 0.000235\n",
      "INFO:tensorflow:Step 4850 | Loss: 0.4021 | Spent: 5.5 secs | LR: 0.000234\n",
      "INFO:tensorflow:Step 4900 | Loss: 0.3388 | Spent: 5.5 secs | LR: 0.000233\n",
      "INFO:tensorflow:Step 4950 | Loss: 0.2115 | Spent: 5.4 secs | LR: 0.000233\n",
      "INFO:tensorflow:Step 5000 | Loss: 0.4298 | Spent: 5.5 secs | LR: 0.000232\n",
      "INFO:tensorflow:Step 5050 | Loss: 0.3813 | Spent: 5.4 secs | LR: 0.000232\n",
      "INFO:tensorflow:Step 5100 | Loss: 0.2871 | Spent: 5.3 secs | LR: 0.000231\n",
      "INFO:tensorflow:Step 5150 | Loss: 0.3254 | Spent: 5.4 secs | LR: 0.000230\n",
      "INFO:tensorflow:Step 5200 | Loss: 0.2149 | Spent: 5.5 secs | LR: 0.000230\n",
      "INFO:tensorflow:Step 5250 | Loss: 0.2949 | Spent: 5.5 secs | LR: 0.000229\n",
      "INFO:tensorflow:Step 5300 | Loss: 0.2580 | Spent: 5.6 secs | LR: 0.000229\n",
      "INFO:tensorflow:Step 5350 | Loss: 0.2844 | Spent: 6.0 secs | LR: 0.000228\n",
      "INFO:tensorflow:Step 5400 | Loss: 0.2618 | Spent: 5.6 secs | LR: 0.000227\n",
      "INFO:tensorflow:Step 5450 | Loss: 0.1412 | Spent: 5.4 secs | LR: 0.000227\n",
      "Reading ./data/test.txt\n",
      "INFO:tensorflow:Evaluation: Testing Accuracy: 0.867\n",
      "INFO:tensorflow:Best Accuracy: 0.868\n",
      "Reading ./data/train.txt\n",
      "INFO:tensorflow:Step 5500 | Loss: 0.3332 | Spent: 131.8 secs | LR: 0.000226\n",
      "INFO:tensorflow:Step 5550 | Loss: 0.2001 | Spent: 5.8 secs | LR: 0.000226\n",
      "INFO:tensorflow:Step 5600 | Loss: 0.1597 | Spent: 5.5 secs | LR: 0.000225\n",
      "INFO:tensorflow:Step 5650 | Loss: 0.3880 | Spent: 5.4 secs | LR: 0.000225\n",
      "INFO:tensorflow:Step 5700 | Loss: 0.1528 | Spent: 5.4 secs | LR: 0.000224\n",
      "INFO:tensorflow:Step 5750 | Loss: 0.3379 | Spent: 5.4 secs | LR: 0.000223\n",
      "INFO:tensorflow:Step 5800 | Loss: 0.2255 | Spent: 5.4 secs | LR: 0.000223\n",
      "INFO:tensorflow:Step 5850 | Loss: 0.3158 | Spent: 5.5 secs | LR: 0.000222\n",
      "INFO:tensorflow:Step 5900 | Loss: 0.3961 | Spent: 5.5 secs | LR: 0.000222\n",
      "INFO:tensorflow:Step 5950 | Loss: 0.4072 | Spent: 5.4 secs | LR: 0.000221\n",
      "INFO:tensorflow:Step 6000 | Loss: 0.3621 | Spent: 5.4 secs | LR: 0.000221\n",
      "INFO:tensorflow:Step 6050 | Loss: 0.1240 | Spent: 5.4 secs | LR: 0.000220\n",
      "INFO:tensorflow:Step 6100 | Loss: 0.1851 | Spent: 5.5 secs | LR: 0.000219\n",
      "INFO:tensorflow:Step 6150 | Loss: 0.2184 | Spent: 5.3 secs | LR: 0.000219\n",
      "INFO:tensorflow:Step 6200 | Loss: 0.1604 | Spent: 5.3 secs | LR: 0.000218\n",
      "INFO:tensorflow:Step 6250 | Loss: 0.3188 | Spent: 5.4 secs | LR: 0.000218\n",
      "Reading ./data/test.txt\n",
      "INFO:tensorflow:Evaluation: Testing Accuracy: 0.874\n",
      "INFO:tensorflow:Best Accuracy: 0.874\n",
      "Reading ./data/train.txt\n",
      "INFO:tensorflow:Step 6300 | Loss: 0.3327 | Spent: 52.7 secs | LR: 0.000217\n",
      "INFO:tensorflow:Step 6350 | Loss: 0.4193 | Spent: 5.5 secs | LR: 0.000217\n",
      "INFO:tensorflow:Step 6400 | Loss: 0.3738 | Spent: 5.4 secs | LR: 0.000216\n",
      "INFO:tensorflow:Step 6450 | Loss: 0.3293 | Spent: 5.4 secs | LR: 0.000215\n",
      "INFO:tensorflow:Step 6500 | Loss: 0.3153 | Spent: 5.4 secs | LR: 0.000215\n",
      "INFO:tensorflow:Step 6550 | Loss: 0.2755 | Spent: 5.4 secs | LR: 0.000214\n",
      "INFO:tensorflow:Step 6600 | Loss: 0.2595 | Spent: 5.4 secs | LR: 0.000214\n",
      "INFO:tensorflow:Step 6650 | Loss: 0.2067 | Spent: 5.4 secs | LR: 0.000213\n",
      "INFO:tensorflow:Step 6700 | Loss: 0.4761 | Spent: 5.4 secs | LR: 0.000213\n",
      "INFO:tensorflow:Step 6750 | Loss: 0.1263 | Spent: 5.4 secs | LR: 0.000212\n",
      "INFO:tensorflow:Step 6800 | Loss: 0.3439 | Spent: 5.4 secs | LR: 0.000212\n",
      "INFO:tensorflow:Step 6850 | Loss: 0.3440 | Spent: 5.4 secs | LR: 0.000211\n",
      "INFO:tensorflow:Step 6900 | Loss: 0.2325 | Spent: 5.5 secs | LR: 0.000211\n",
      "INFO:tensorflow:Step 6950 | Loss: 0.4615 | Spent: 14.6 secs | LR: 0.000210\n",
      "INFO:tensorflow:Step 7000 | Loss: 0.1375 | Spent: 5.7 secs | LR: 0.000210\n",
      "Reading ./data/test.txt\n",
      "INFO:tensorflow:Evaluation: Testing Accuracy: 0.872\n",
      "INFO:tensorflow:Best Accuracy: 0.874\n",
      "Reading ./data/train.txt\n",
      "INFO:tensorflow:Step 7050 | Loss: 0.1332 | Spent: 59.0 secs | LR: 0.000209\n",
      "INFO:tensorflow:Step 7100 | Loss: 0.2995 | Spent: 5.5 secs | LR: 0.000208\n",
      "INFO:tensorflow:Step 7150 | Loss: 0.2105 | Spent: 5.5 secs | LR: 0.000208\n",
      "INFO:tensorflow:Step 7200 | Loss: 0.2932 | Spent: 5.4 secs | LR: 0.000207\n",
      "INFO:tensorflow:Step 7250 | Loss: 0.3627 | Spent: 5.4 secs | LR: 0.000207\n",
      "INFO:tensorflow:Step 7300 | Loss: 0.1584 | Spent: 5.4 secs | LR: 0.000206\n",
      "INFO:tensorflow:Step 7350 | Loss: 0.4601 | Spent: 5.6 secs | LR: 0.000206\n",
      "INFO:tensorflow:Step 7400 | Loss: 0.1851 | Spent: 5.5 secs | LR: 0.000205\n",
      "INFO:tensorflow:Step 7450 | Loss: 0.2237 | Spent: 5.4 secs | LR: 0.000205\n",
      "INFO:tensorflow:Step 7500 | Loss: 0.2715 | Spent: 5.4 secs | LR: 0.000204\n",
      "INFO:tensorflow:Step 7550 | Loss: 0.3302 | Spent: 5.4 secs | LR: 0.000204\n",
      "INFO:tensorflow:Step 7600 | Loss: 0.2704 | Spent: 5.4 secs | LR: 0.000203\n",
      "INFO:tensorflow:Step 7650 | Loss: 0.0931 | Spent: 5.4 secs | LR: 0.000203\n",
      "INFO:tensorflow:Step 7700 | Loss: 0.1497 | Spent: 5.5 secs | LR: 0.000202\n",
      "INFO:tensorflow:Step 7750 | Loss: 0.3324 | Spent: 5.4 secs | LR: 0.000202\n",
      "INFO:tensorflow:Step 7800 | Loss: 0.3429 | Spent: 5.7 secs | LR: 0.000201\n",
      "Reading ./data/test.txt\n",
      "INFO:tensorflow:Evaluation: Testing Accuracy: 0.869\n",
      "INFO:tensorflow:Best Accuracy: 0.874\n",
      "Reading ./data/train.txt\n",
      "INFO:tensorflow:Step 7850 | Loss: 0.3646 | Spent: 71.3 secs | LR: 0.000201\n",
      "INFO:tensorflow:Step 7900 | Loss: 0.4739 | Spent: 5.5 secs | LR: 0.000200\n",
      "INFO:tensorflow:Step 7950 | Loss: 0.1048 | Spent: 5.4 secs | LR: 0.000200\n",
      "INFO:tensorflow:Step 8000 | Loss: 0.2395 | Spent: 5.4 secs | LR: 0.000199\n",
      "INFO:tensorflow:Step 8050 | Loss: 0.2026 | Spent: 5.5 secs | LR: 0.000199\n",
      "INFO:tensorflow:Step 8100 | Loss: 0.0660 | Spent: 5.4 secs | LR: 0.000198\n",
      "INFO:tensorflow:Step 8150 | Loss: 0.2930 | Spent: 13.3 secs | LR: 0.000198\n",
      "INFO:tensorflow:Step 8200 | Loss: 0.3604 | Spent: 6.0 secs | LR: 0.000197\n",
      "INFO:tensorflow:Step 8250 | Loss: 0.3011 | Spent: 10.6 secs | LR: 0.000196\n",
      "INFO:tensorflow:Step 8300 | Loss: 0.2808 | Spent: 6.6 secs | LR: 0.000196\n",
      "INFO:tensorflow:Step 8350 | Loss: 0.6000 | Spent: 5.6 secs | LR: 0.000195\n",
      "INFO:tensorflow:Step 8400 | Loss: 0.1644 | Spent: 5.6 secs | LR: 0.000195\n",
      "INFO:tensorflow:Step 8450 | Loss: 0.3751 | Spent: 5.6 secs | LR: 0.000194\n",
      "INFO:tensorflow:Step 8500 | Loss: 0.2974 | Spent: 5.5 secs | LR: 0.000194\n",
      "INFO:tensorflow:Step 8550 | Loss: 0.0934 | Spent: 5.4 secs | LR: 0.000193\n",
      "INFO:tensorflow:Step 8600 | Loss: 0.3480 | Spent: 5.3 secs | LR: 0.000193\n",
      "Reading ./data/test.txt\n",
      "INFO:tensorflow:Evaluation: Testing Accuracy: 0.880\n",
      "INFO:tensorflow:Best Accuracy: 0.880\n",
      "Reading ./data/train.txt\n",
      "INFO:tensorflow:Step 8650 | Loss: 0.2490 | Spent: 53.2 secs | LR: 0.000192\n",
      "INFO:tensorflow:Step 8700 | Loss: 0.3175 | Spent: 5.6 secs | LR: 0.000192\n",
      "INFO:tensorflow:Step 8750 | Loss: 0.3422 | Spent: 5.6 secs | LR: 0.000192\n",
      "INFO:tensorflow:Step 8800 | Loss: 0.1925 | Spent: 5.7 secs | LR: 0.000191\n",
      "INFO:tensorflow:Step 8850 | Loss: 0.3622 | Spent: 5.5 secs | LR: 0.000191\n",
      "INFO:tensorflow:Step 8900 | Loss: 0.2531 | Spent: 5.4 secs | LR: 0.000190\n",
      "INFO:tensorflow:Step 8950 | Loss: 0.2106 | Spent: 5.3 secs | LR: 0.000190\n",
      "INFO:tensorflow:Step 9000 | Loss: 0.1917 | Spent: 5.5 secs | LR: 0.000189\n",
      "INFO:tensorflow:Step 9050 | Loss: 0.3939 | Spent: 5.6 secs | LR: 0.000189\n",
      "INFO:tensorflow:Step 9100 | Loss: 0.3072 | Spent: 5.7 secs | LR: 0.000188\n",
      "INFO:tensorflow:Step 9150 | Loss: 0.1425 | Spent: 5.5 secs | LR: 0.000188\n",
      "INFO:tensorflow:Step 9200 | Loss: 0.2889 | Spent: 5.5 secs | LR: 0.000187\n",
      "INFO:tensorflow:Step 9250 | Loss: 0.2529 | Spent: 5.4 secs | LR: 0.000187\n",
      "INFO:tensorflow:Step 9300 | Loss: 0.2864 | Spent: 5.4 secs | LR: 0.000186\n",
      "INFO:tensorflow:Step 9350 | Loss: 0.3016 | Spent: 5.4 secs | LR: 0.000186\n",
      "Reading ./data/test.txt\n",
      "INFO:tensorflow:Evaluation: Testing Accuracy: 0.881\n",
      "INFO:tensorflow:Best Accuracy: 0.881\n",
      "Reading ./data/train.txt\n",
      "INFO:tensorflow:Step 9400 | Loss: 0.3902 | Spent: 53.3 secs | LR: 0.000185\n",
      "INFO:tensorflow:Step 9450 | Loss: 0.3268 | Spent: 5.7 secs | LR: 0.000185\n",
      "INFO:tensorflow:Step 9500 | Loss: 0.3328 | Spent: 5.5 secs | LR: 0.000184\n",
      "INFO:tensorflow:Step 9550 | Loss: 0.2742 | Spent: 5.5 secs | LR: 0.000184\n",
      "INFO:tensorflow:Step 9600 | Loss: 0.2790 | Spent: 5.5 secs | LR: 0.000183\n",
      "INFO:tensorflow:Step 9650 | Loss: 0.4097 | Spent: 10.9 secs | LR: 0.000183\n",
      "INFO:tensorflow:Step 9700 | Loss: 0.1503 | Spent: 5.6 secs | LR: 0.000182\n",
      "INFO:tensorflow:Step 9750 | Loss: 0.2179 | Spent: 5.5 secs | LR: 0.000182\n",
      "INFO:tensorflow:Step 9800 | Loss: 0.2836 | Spent: 5.5 secs | LR: 0.000181\n",
      "INFO:tensorflow:Step 9850 | Loss: 0.2242 | Spent: 5.4 secs | LR: 0.000181\n",
      "INFO:tensorflow:Step 9900 | Loss: 0.2780 | Spent: 5.6 secs | LR: 0.000181\n",
      "INFO:tensorflow:Step 9950 | Loss: 0.2799 | Spent: 5.5 secs | LR: 0.000180\n",
      "INFO:tensorflow:Step 10000 | Loss: 0.2021 | Spent: 5.5 secs | LR: 0.000180\n",
      "INFO:tensorflow:Step 10050 | Loss: 0.1792 | Spent: 5.6 secs | LR: 0.000179\n",
      "INFO:tensorflow:Step 10100 | Loss: 0.4703 | Spent: 5.6 secs | LR: 0.000179\n",
      "INFO:tensorflow:Step 10150 | Loss: 0.3378 | Spent: 5.6 secs | LR: 0.000178\n",
      "Reading ./data/test.txt\n",
      "INFO:tensorflow:Evaluation: Testing Accuracy: 0.867\n",
      "INFO:tensorflow:Best Accuracy: 0.881\n",
      "Reading ./data/train.txt\n",
      "INFO:tensorflow:Step 10200 | Loss: 0.3882 | Spent: 54.1 secs | LR: 0.000178\n",
      "INFO:tensorflow:Step 10250 | Loss: 0.2470 | Spent: 5.5 secs | LR: 0.000177\n",
      "INFO:tensorflow:Step 10300 | Loss: 0.1778 | Spent: 5.4 secs | LR: 0.000177\n",
      "INFO:tensorflow:Step 10350 | Loss: 0.1286 | Spent: 5.7 secs | LR: 0.000176\n",
      "INFO:tensorflow:Step 10400 | Loss: 0.2139 | Spent: 5.5 secs | LR: 0.000176\n",
      "INFO:tensorflow:Step 10450 | Loss: 0.1445 | Spent: 5.6 secs | LR: 0.000176\n",
      "INFO:tensorflow:Step 10500 | Loss: 0.1941 | Spent: 5.5 secs | LR: 0.000175\n",
      "INFO:tensorflow:Step 10550 | Loss: 0.2632 | Spent: 5.4 secs | LR: 0.000175\n",
      "INFO:tensorflow:Step 10600 | Loss: 0.3558 | Spent: 5.4 secs | LR: 0.000174\n",
      "INFO:tensorflow:Step 10650 | Loss: 0.2956 | Spent: 5.5 secs | LR: 0.000174\n",
      "INFO:tensorflow:Step 10700 | Loss: 0.2967 | Spent: 5.5 secs | LR: 0.000173\n",
      "INFO:tensorflow:Step 10750 | Loss: 0.3650 | Spent: 5.5 secs | LR: 0.000173\n",
      "INFO:tensorflow:Step 10800 | Loss: 0.1388 | Spent: 5.5 secs | LR: 0.000172\n",
      "INFO:tensorflow:Step 10850 | Loss: 0.3146 | Spent: 5.6 secs | LR: 0.000172\n",
      "INFO:tensorflow:Step 10900 | Loss: 0.1710 | Spent: 5.5 secs | LR: 0.000172\n",
      "Reading ./data/test.txt\n",
      "INFO:tensorflow:Evaluation: Testing Accuracy: 0.870\n",
      "INFO:tensorflow:Best Accuracy: 0.881\n",
      "Reading ./data/train.txt\n",
      "INFO:tensorflow:Step 10950 | Loss: 0.1442 | Spent: 53.5 secs | LR: 0.000171\n",
      "INFO:tensorflow:Step 11000 | Loss: 0.1412 | Spent: 5.5 secs | LR: 0.000171\n",
      "INFO:tensorflow:Step 11050 | Loss: 0.2125 | Spent: 5.5 secs | LR: 0.000170\n",
      "INFO:tensorflow:Step 11100 | Loss: 0.1622 | Spent: 5.4 secs | LR: 0.000170\n",
      "INFO:tensorflow:Step 11150 | Loss: 0.1493 | Spent: 5.4 secs | LR: 0.000169\n",
      "INFO:tensorflow:Step 11200 | Loss: 0.2116 | Spent: 5.5 secs | LR: 0.000169\n",
      "INFO:tensorflow:Step 11250 | Loss: 0.3075 | Spent: 5.7 secs | LR: 0.000168\n",
      "INFO:tensorflow:Step 11300 | Loss: 0.1687 | Spent: 5.6 secs | LR: 0.000168\n",
      "INFO:tensorflow:Step 11350 | Loss: 0.1991 | Spent: 5.6 secs | LR: 0.000168\n",
      "INFO:tensorflow:Step 11400 | Loss: 0.1538 | Spent: 5.5 secs | LR: 0.000167\n",
      "INFO:tensorflow:Step 11450 | Loss: 0.1633 | Spent: 5.5 secs | LR: 0.000167\n",
      "INFO:tensorflow:Step 11500 | Loss: 0.1023 | Spent: 5.4 secs | LR: 0.000166\n",
      "INFO:tensorflow:Step 11550 | Loss: 0.2460 | Spent: 5.4 secs | LR: 0.000166\n",
      "INFO:tensorflow:Step 11600 | Loss: 0.1569 | Spent: 16.6 secs | LR: 0.000165\n",
      "INFO:tensorflow:Step 11650 | Loss: 0.2714 | Spent: 5.4 secs | LR: 0.000165\n",
      "INFO:tensorflow:Step 11700 | Loss: 0.1474 | Spent: 5.5 secs | LR: 0.000165\n",
      "Reading ./data/test.txt\n",
      "INFO:tensorflow:Evaluation: Testing Accuracy: 0.879\n",
      "INFO:tensorflow:Best Accuracy: 0.881\n",
      "Reading ./data/train.txt\n",
      "INFO:tensorflow:Step 11750 | Loss: 0.2960 | Spent: 52.0 secs | LR: 0.000164\n",
      "INFO:tensorflow:Step 11800 | Loss: 0.2382 | Spent: 5.4 secs | LR: 0.000164\n",
      "INFO:tensorflow:Step 11850 | Loss: 0.2004 | Spent: 5.4 secs | LR: 0.000163\n",
      "INFO:tensorflow:Step 11900 | Loss: 0.2108 | Spent: 5.5 secs | LR: 0.000163\n",
      "INFO:tensorflow:Step 11950 | Loss: 0.3350 | Spent: 5.4 secs | LR: 0.000163\n",
      "INFO:tensorflow:Step 12000 | Loss: 0.2227 | Spent: 5.4 secs | LR: 0.000162\n",
      "INFO:tensorflow:Step 12050 | Loss: 0.2355 | Spent: 5.4 secs | LR: 0.000162\n",
      "INFO:tensorflow:Step 12100 | Loss: 0.3878 | Spent: 5.4 secs | LR: 0.000161\n",
      "INFO:tensorflow:Step 12150 | Loss: 0.2839 | Spent: 9.5 secs | LR: 0.000161\n",
      "INFO:tensorflow:Step 12200 | Loss: 0.1536 | Spent: 6.2 secs | LR: 0.000160\n",
      "INFO:tensorflow:Step 12250 | Loss: 0.1649 | Spent: 5.7 secs | LR: 0.000160\n",
      "INFO:tensorflow:Step 12300 | Loss: 0.3261 | Spent: 5.6 secs | LR: 0.000160\n",
      "INFO:tensorflow:Step 12350 | Loss: 0.4074 | Spent: 9.5 secs | LR: 0.000159\n",
      "INFO:tensorflow:Step 12400 | Loss: 0.2149 | Spent: 7.8 secs | LR: 0.000159\n",
      "INFO:tensorflow:Step 12450 | Loss: 0.4150 | Spent: 8.9 secs | LR: 0.000158\n",
      "INFO:tensorflow:Step 12500 | Loss: 0.3201 | Spent: 6.5 secs | LR: 0.000158\n",
      "Reading ./data/test.txt\n",
      "INFO:tensorflow:Evaluation: Testing Accuracy: 0.877\n",
      "INFO:tensorflow:Best Accuracy: 0.881\n",
      "Reading ./data/train.txt\n",
      "INFO:tensorflow:Step 12550 | Loss: 0.1417 | Spent: 54.1 secs | LR: 0.000158\n",
      "INFO:tensorflow:Step 12600 | Loss: 0.3095 | Spent: 18.2 secs | LR: 0.000157\n",
      "INFO:tensorflow:Step 12650 | Loss: 0.0934 | Spent: 19.0 secs | LR: 0.000157\n",
      "INFO:tensorflow:Step 12700 | Loss: 0.2051 | Spent: 19.2 secs | LR: 0.000156\n",
      "INFO:tensorflow:Step 12750 | Loss: 0.2824 | Spent: 19.3 secs | LR: 0.000156\n",
      "INFO:tensorflow:Step 12800 | Loss: 0.2159 | Spent: 19.2 secs | LR: 0.000156\n",
      "INFO:tensorflow:Step 12850 | Loss: 0.1937 | Spent: 19.2 secs | LR: 0.000155\n",
      "INFO:tensorflow:Step 12900 | Loss: 0.1391 | Spent: 23.8 secs | LR: 0.000155\n",
      "INFO:tensorflow:Step 12950 | Loss: 0.2096 | Spent: 21.7 secs | LR: 0.000154\n",
      "INFO:tensorflow:Step 13000 | Loss: 0.1611 | Spent: 19.2 secs | LR: 0.000154\n",
      "INFO:tensorflow:Step 13050 | Loss: 0.2902 | Spent: 19.1 secs | LR: 0.000154\n",
      "INFO:tensorflow:Step 13100 | Loss: 0.2962 | Spent: 19.4 secs | LR: 0.000153\n",
      "INFO:tensorflow:Step 13150 | Loss: 0.3294 | Spent: 27.2 secs | LR: 0.000153\n",
      "INFO:tensorflow:Step 13200 | Loss: 0.1454 | Spent: 19.7 secs | LR: 0.000152\n",
      "INFO:tensorflow:Step 13250 | Loss: 0.3210 | Spent: 26.6 secs | LR: 0.000152\n",
      "Reading ./data/test.txt\n",
      "INFO:tensorflow:Evaluation: Testing Accuracy: 0.884\n",
      "INFO:tensorflow:Best Accuracy: 0.884\n",
      "Reading ./data/train.txt\n",
      "INFO:tensorflow:Step 13300 | Loss: 0.2144 | Spent: 125.0 secs | LR: 0.000152\n",
      "INFO:tensorflow:Step 13350 | Loss: 0.2254 | Spent: 19.0 secs | LR: 0.000151\n",
      "INFO:tensorflow:Step 13400 | Loss: 0.2661 | Spent: 18.8 secs | LR: 0.000151\n",
      "INFO:tensorflow:Step 13450 | Loss: 0.2029 | Spent: 18.6 secs | LR: 0.000150\n",
      "INFO:tensorflow:Step 13500 | Loss: 0.4255 | Spent: 17.7 secs | LR: 0.000150\n",
      "INFO:tensorflow:Step 13550 | Loss: 0.2593 | Spent: 18.2 secs | LR: 0.000150\n",
      "INFO:tensorflow:Step 13600 | Loss: 0.2218 | Spent: 19.1 secs | LR: 0.000149\n",
      "INFO:tensorflow:Step 13650 | Loss: 0.3091 | Spent: 27.1 secs | LR: 0.000149\n",
      "INFO:tensorflow:Step 13700 | Loss: 0.2744 | Spent: 19.5 secs | LR: 0.000149\n",
      "INFO:tensorflow:Step 13750 | Loss: 0.2739 | Spent: 19.7 secs | LR: 0.000148\n",
      "INFO:tensorflow:Step 13800 | Loss: 0.3897 | Spent: 19.6 secs | LR: 0.000148\n",
      "INFO:tensorflow:Step 13850 | Loss: 0.5524 | Spent: 19.8 secs | LR: 0.000147\n",
      "INFO:tensorflow:Step 13900 | Loss: 0.3241 | Spent: 20.2 secs | LR: 0.000147\n",
      "INFO:tensorflow:Step 13950 | Loss: 0.2901 | Spent: 20.5 secs | LR: 0.000147\n",
      "INFO:tensorflow:Step 14000 | Loss: 0.2108 | Spent: 27.6 secs | LR: 0.000146\n",
      "INFO:tensorflow:Step 14050 | Loss: 0.3447 | Spent: 26.2 secs | LR: 0.000146\n",
      "Reading ./data/test.txt\n",
      "INFO:tensorflow:Evaluation: Testing Accuracy: 0.877\n",
      "INFO:tensorflow:Best Accuracy: 0.884\n",
      "Reading ./data/train.txt\n",
      "INFO:tensorflow:Step 14100 | Loss: 0.2477 | Spent: 154.6 secs | LR: 0.000146\n",
      "INFO:tensorflow:Step 14150 | Loss: 0.1688 | Spent: 18.1 secs | LR: 0.000145\n",
      "INFO:tensorflow:Step 14200 | Loss: 0.0957 | Spent: 5.8 secs | LR: 0.000145\n",
      "INFO:tensorflow:Step 14250 | Loss: 0.2322 | Spent: 5.6 secs | LR: 0.000144\n",
      "INFO:tensorflow:Step 14300 | Loss: 0.2013 | Spent: 5.4 secs | LR: 0.000144\n",
      "INFO:tensorflow:Step 14350 | Loss: 0.3643 | Spent: 6.0 secs | LR: 0.000144\n",
      "INFO:tensorflow:Step 14400 | Loss: 0.1599 | Spent: 5.6 secs | LR: 0.000143\n",
      "INFO:tensorflow:Step 14450 | Loss: 0.1857 | Spent: 5.3 secs | LR: 0.000143\n",
      "INFO:tensorflow:Step 14500 | Loss: 0.2112 | Spent: 5.4 secs | LR: 0.000143\n",
      "INFO:tensorflow:Step 14550 | Loss: 0.1276 | Spent: 5.4 secs | LR: 0.000142\n",
      "INFO:tensorflow:Step 14600 | Loss: 0.1452 | Spent: 5.5 secs | LR: 0.000142\n",
      "INFO:tensorflow:Step 14650 | Loss: 0.2656 | Spent: 5.4 secs | LR: 0.000142\n",
      "INFO:tensorflow:Step 14700 | Loss: 0.1748 | Spent: 5.4 secs | LR: 0.000141\n",
      "INFO:tensorflow:Step 14750 | Loss: 0.2251 | Spent: 5.4 secs | LR: 0.000141\n",
      "INFO:tensorflow:Step 14800 | Loss: 0.2217 | Spent: 5.5 secs | LR: 0.000140\n",
      "INFO:tensorflow:Step 14850 | Loss: 0.5357 | Spent: 5.4 secs | LR: 0.000140\n",
      "Reading ./data/test.txt\n",
      "INFO:tensorflow:Evaluation: Testing Accuracy: 0.877\n",
      "INFO:tensorflow:Best Accuracy: 0.884\n",
      "Reading ./data/train.txt\n",
      "INFO:tensorflow:Step 14900 | Loss: 0.2293 | Spent: 53.7 secs | LR: 0.000140\n",
      "INFO:tensorflow:Step 14950 | Loss: 0.1639 | Spent: 5.5 secs | LR: 0.000139\n",
      "INFO:tensorflow:Step 15000 | Loss: 0.1964 | Spent: 5.4 secs | LR: 0.000139\n",
      "INFO:tensorflow:Step 15050 | Loss: 0.2769 | Spent: 5.4 secs | LR: 0.000139\n",
      "INFO:tensorflow:Step 15100 | Loss: 0.3842 | Spent: 5.5 secs | LR: 0.000138\n",
      "INFO:tensorflow:Step 15150 | Loss: 0.4714 | Spent: 5.7 secs | LR: 0.000138\n",
      "INFO:tensorflow:Step 15200 | Loss: 0.2910 | Spent: 5.5 secs | LR: 0.000138\n",
      "INFO:tensorflow:Step 15250 | Loss: 0.0857 | Spent: 5.4 secs | LR: 0.000137\n",
      "INFO:tensorflow:Step 15300 | Loss: 0.4473 | Spent: 5.6 secs | LR: 0.000137\n",
      "INFO:tensorflow:Step 15350 | Loss: 0.1341 | Spent: 5.4 secs | LR: 0.000137\n",
      "INFO:tensorflow:Step 15400 | Loss: 0.3742 | Spent: 5.6 secs | LR: 0.000136\n",
      "INFO:tensorflow:Step 15450 | Loss: 0.2506 | Spent: 5.6 secs | LR: 0.000136\n",
      "INFO:tensorflow:Step 15500 | Loss: 0.2174 | Spent: 5.5 secs | LR: 0.000135\n",
      "INFO:tensorflow:Step 15550 | Loss: 0.3850 | Spent: 5.7 secs | LR: 0.000135\n",
      "INFO:tensorflow:Step 15600 | Loss: 0.0923 | Spent: 5.5 secs | LR: 0.000135\n",
      "Reading ./data/test.txt\n",
      "INFO:tensorflow:Evaluation: Testing Accuracy: 0.882\n",
      "INFO:tensorflow:Best Accuracy: 0.884\n"
     ]
    }
   ],
   "source": [
    "losses_list = []\n",
    "\n",
    "for i in range(20):\n",
    "  # 训练模型\n",
    "    for texts, labels in dataset(is_training=True, params=params):\n",
    "        with tf.GradientTape() as tape:#梯度带，记录所有在上下文中的操作，并且通过调用.gradient()获得任何上下文中计算得出的张量的梯度\n",
    "            logits = model(texts, training=True)\n",
    "            loss = tf.nn.sparse_softmax_cross_entropy_with_logits(labels=labels, logits=logits)\n",
    "            loss = tf.reduce_mean(loss)\n",
    "  \n",
    "        losses_list.append(loss.numpy().item())\n",
    "        optim.lr.assign(decay_lr(global_step))\n",
    "        grads = tape.gradient(loss, model.trainable_variables)\n",
    "        grads, _ = tf.clip_by_global_norm(grads, params['clip_norm']) #将梯度限制一下，有的时候回更新太猛，防止过拟合\n",
    "        optim.apply_gradients(zip(grads, model.trainable_variables))#更新梯度\n",
    "\n",
    "        if global_step % 50 == 0:\n",
    "            logger.info(\"Step {} | Loss: {:.4f} | Spent: {:.1f} secs | LR: {:.6f}\".format(\n",
    "                global_step, loss.numpy().item(), time.time()-t0, optim.lr.numpy().item()))\n",
    "            t0 = time.time()\n",
    "            \n",
    "            \n",
    "        global_step += 1\n",
    "\n",
    "    # 验证集效果\n",
    "    m = tf.keras.metrics.Accuracy()\n",
    "\n",
    "    for texts, labels in dataset(is_training=False, params=params):\n",
    "        logits = model(texts, training=False)\n",
    "        y_pred = tf.argmax(logits, axis=-1)\n",
    "        m.update_state(y_true=labels, y_pred=y_pred)\n",
    "    \n",
    "    acc = m.result().numpy()\n",
    "    logger.info(\"Evaluation: Testing Accuracy: {:.3f}\".format(acc))\n",
    "    history_acc.append(acc)\n",
    "  \n",
    "    if acc > best_acc:\n",
    "        best_acc = acc\n",
    "    logger.info(\"Best Accuracy: {:.3f}\".format(best_acc))\n",
    "  \n",
    "    if len(history_acc) > params['num_patience'] and is_descending(history_acc):\n",
    "        logger.info(\"Testing Accuracy not improved over {} epochs, Early Stop\".format(params['num_patience']))\n",
    "        break"
   ]
  },
  {
   "cell_type": "code",
   "execution_count": 24,
   "metadata": {
    "tags": []
   },
   "outputs": [],
   "source": [
    "import pandas as pd"
   ]
  },
  {
   "cell_type": "code",
   "execution_count": 28,
   "metadata": {
    "tags": []
   },
   "outputs": [],
   "source": [
    "loss = 0\n",
    "l_l = []\n",
    "for i, item in enumerate(losses_list):\n",
    "    if i % 15 == 0:\n",
    "        loss /= 16\n",
    "        l_l.append(loss)\n",
    "        loss = 0\n",
    "    \n",
    "    loss += item\n",
    "    "
   ]
  },
  {
   "cell_type": "code",
   "execution_count": 33,
   "metadata": {
    "tags": []
   },
   "outputs": [
    {
     "data": {
      "text/plain": [
       "<Axes: >"
      ]
     },
     "execution_count": 33,
     "metadata": {},
     "output_type": "execute_result"
    },
    {
     "data": {
      "image/png": "[encoded data removed]",
      "text/plain": [
       "<Figure size 1500x800 with 1 Axes>"
      ]
     },
     "metadata": {},
     "output_type": "display_data"
    }
   ],
   "source": [
    "pd.Series(l_l[1:]).plot(figsize=(15, 8))"
   ]
  },
  {
   "cell_type": "code",
   "execution_count": null,
   "metadata": {},
   "outputs": [],
   "source": []
  },
  {
   "cell_type": "code",
   "execution_count": null,
   "metadata": {},
   "outputs": [],
   "source": []
  }
 ],
 "metadata": {
  "kernelspec": {
   "display_name": "Python 3 (ipykernel)",
   "language": "python",
   "name": "python3"
  },
  "language_info": {
   "codemirror_mode": {
    "name": "ipython",
    "version": 3
   },
   "file_extension": ".py",
   "mimetype": "text/x-python",
   "name": "python",
   "nbconvert_exporter": "python",
   "pygments_lexer": "ipython3",
   "version": "3.8.18"
  }
 },
 "nbformat": 4,
 "nbformat_minor": 4
}
