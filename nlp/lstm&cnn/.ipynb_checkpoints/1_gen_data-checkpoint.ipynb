{
 "cells": [
  {
   "cell_type": "code",
   "execution_count": 1,
   "id": "578deba4-cb7b-486d-849b-fa393d720c95",
   "metadata": {
    "tags": []
   },
   "outputs": [],
   "source": [
    "import os\n",
    "import warnings\n",
    "warnings.filterwarnings(\"ignore\")\n",
    "\n",
    "from collections import Counter\n",
    "import numpy as np\n",
    "\n",
    "import tensorflow as tf"
   ]
  },
  {
   "cell_type": "code",
   "execution_count": 2,
   "id": "1d01bdc5-d194-47c6-9cd4-820611019380",
   "metadata": {
    "tags": []
   },
   "outputs": [],
   "source": [
    "(x_train, y_train), (x_test, y_test) = tf.keras.datasets.imdb.load_data()"
   ]
  },
  {
   "cell_type": "code",
   "execution_count": 3,
   "id": "3325c3eb-df51-43c7-a5f3-f8848f113360",
   "metadata": {
    "tags": []
   },
   "outputs": [
    {
     "data": {
      "text/plain": [
       "((25000,), 218)"
      ]
     },
     "execution_count": 3,
     "metadata": {},
     "output_type": "execute_result"
    }
   ],
   "source": [
    "x_train.shape, len(x_train[0])"
   ]
  },
  {
   "cell_type": "code",
   "execution_count": 4,
   "id": "770b6837-7c04-45c3-9064-226bc958d0b5",
   "metadata": {
    "tags": []
   },
   "outputs": [],
   "source": [
    "_word2idx = tf.keras.datasets.imdb.get_word_index()\n",
    "word2idx = {w: i+3 for w, i in _word2idx.items()}\n",
    "word2idx['<pad>'] = 0\n",
    "word2idx['<start>'] = 1\n",
    "word2idx['<unk>'] = 2\n",
    "idx2word = {i: w for w, i in word2idx.items()}"
   ]
  },
  {
   "cell_type": "code",
   "execution_count": 5,
   "id": "7c10f766-4c3a-4531-baea-91ddbd0eb260",
   "metadata": {
    "tags": []
   },
   "outputs": [],
   "source": [
    "def write_file(f_path, x, y):\n",
    "    dirname = os.path.dirname(os.path.abspath('./data/train.txt'))\n",
    "    if not os.path.exists(dirname):\n",
    "        os.makedirs(dirname)\n",
    "    \n",
    "    with open(f_path, 'w',encoding='utf-8') as f:\n",
    "        for factor, label in zip(x, y):\n",
    "            content = ' '.join([idx2word[idx] for idx in factor])\n",
    "            f.write(f\"{label}\\t{content}\\n\")\n",
    "\n",
    "write_file('./data/train.txt', x_train, y_train)\n",
    "write_file('./data/test.txt', x_test, y_test)"
   ]
  },
  {
   "cell_type": "markdown",
   "id": "35ee7f9e-2566-4381-baf7-4d10fdc68005",
   "metadata": {
    "tags": []
   },
   "source": [
    "# 创建语料表"
   ]
  },
  {
   "cell_type": "code",
   "execution_count": 6,
   "id": "55db116e-ebf9-4b42-af65-3ae8e615b83b",
   "metadata": {
    "tags": []
   },
   "outputs": [],
   "source": [
    "counter = Counter()\n",
    "with open('./data/train.txt', 'r',encoding='utf-8') as f:\n",
    "    for line in f.readlines():\n",
    "        line: str = line.strip()\n",
    "        label, content = line.split('\\t')\n",
    "        content = content.split(' ')\n",
    "\n",
    "        counter.update([w for w in content])\n"
   ]
  },
  {
   "cell_type": "code",
   "execution_count": 7,
   "id": "612a74fb-9eca-490c-8075-2ac8adc12539",
   "metadata": {
    "tags": []
   },
   "outputs": [],
   "source": [
    "words = [word for word, freq in counter.most_common() if freq > 10]\n",
    "\n",
    "if '<pad>' not in words:\n",
    "    words.append('<pad>')\n",
    "\n",
    "if '<start>' not in words:\n",
    "    words.append('<start>')\n",
    "    \n",
    "if '<unk>' not in words:\n",
    "    words.append('<unk>')"
   ]
  },
  {
   "cell_type": "code",
   "execution_count": 8,
   "id": "4187953a-d164-4cbf-b5ac-79d86fc98669",
   "metadata": {
    "tags": []
   },
   "outputs": [
    {
     "data": {
      "text/plain": [
       "19501"
      ]
     },
     "execution_count": 8,
     "metadata": {},
     "output_type": "execute_result"
    }
   ],
   "source": [
    "len(words)"
   ]
  },
  {
   "cell_type": "code",
   "execution_count": 9,
   "id": "7464b136-1c83-46ea-9815-980ab55d91ad",
   "metadata": {
    "tags": []
   },
   "outputs": [],
   "source": [
    "dirname = \"./vocab\"\n",
    "if not os.path.exists(dirname):\n",
    "        os.makedirs(dirname)\n",
    "\n",
    "with open(f'{dirname}/word.txt', 'w',encoding='utf-8') as f:\n",
    "    for w in words:\n",
    "        f.write(f\"{w}\\n\")\n",
    "        "
   ]
  },
  {
   "cell_type": "code",
   "execution_count": null,
   "id": "37429e9a-864f-4bf4-bf25-956b46e31c11",
   "metadata": {},
   "outputs": [],
   "source": []
  }
 ],
 "metadata": {
  "kernelspec": {
   "display_name": "Python 3 (ipykernel)",
   "language": "python",
   "name": "python3"
  },
  "language_info": {
   "codemirror_mode": {
    "name": "ipython",
    "version": 3
   },
   "file_extension": ".py",
   "mimetype": "text/x-python",
   "name": "python",
   "nbconvert_exporter": "python",
   "pygments_lexer": "ipython3",
   "version": "3.8.18"
  }
 },
 "nbformat": 4,
 "nbformat_minor": 5
}
